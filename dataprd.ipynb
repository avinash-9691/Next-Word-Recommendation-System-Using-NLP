{
 "cells": [
  {
   "cell_type": "code",
   "execution_count": 1,
   "id": "549c17d2-f842-4ddf-8a94-f0f1583748da",
   "metadata": {},
   "outputs": [],
   "source": [
    "import nltk\n",
    "from nltk.tokenize import word_tokenize\n",
    "from nltk.collocations import ngrams\n",
    "import pandas as pd"
   ]
  },
  {
   "cell_type": "code",
   "execution_count": 17,
   "id": "902d95c8-88b5-4dff-ad38-bc3bb26be16f",
   "metadata": {},
   "outputs": [
    {
     "name": "stdout",
     "output_type": "stream",
     "text": [
      "enter your data :  java\n"
     ]
    },
    {
     "name": "stdout",
     "output_type": "stream",
     "text": [
      "first word prd :  python\n",
      "second word prd :  i\n"
     ]
    }
   ],
   "source": [
    "q = open(\"demo.txt\",\"r\")\n",
    "data = q.read()\n",
    "token_data = word_tokenize(data)  # word tokenization\n",
    "ng = ngrams(token_data,2)\n",
    "\n",
    "#creating a dataset\n",
    "df = {\"first_word\" :[] , \"second_word\":[]} \n",
    "for i in ng :\n",
    "    df[\"first_word\"].append(i[0])\n",
    "    df['second_word'].append(i[1])\n",
    "dataset = pd.DataFrame(df)        #Converting the dictionary into Dataframe\n",
    "data = input(\"Enter your data : \")   # data entry\n",
    "\n",
    "try :\n",
    "    l = dataset[dataset['first_word']== data ]['second_word'][:2].values  # filter \n",
    "    print(\"first word prd : \",l[0])\n",
    "    print(\"second word prd : \",l[1])\n",
    "except :\n",
    "    print(\"no any prd b/c no any data record in my list so add data\")\n",
    "\n",
    "# Adding new data add in txt\n",
    "p = open(\"demo.txt\",'a') \n",
    "p.write(\" \"+data)\n",
    "p.close()  "
   ]
  },
  {
   "cell_type": "code",
   "execution_count": null,
   "id": "edd08c7b-9b82-43b2-9092-1e699211b224",
   "metadata": {},
   "outputs": [],
   "source": []
  }
 ],
 "metadata": {
  "kernelspec": {
   "display_name": "Python 3 (ipykernel)",
   "language": "python",
   "name": "python3"
  },
  "language_info": {
   "codemirror_mode": {
    "name": "ipython",
    "version": 3
   },
   "file_extension": ".py",
   "mimetype": "text/x-python",
   "name": "python",
   "nbconvert_exporter": "python",
   "pygments_lexer": "ipython3",
   "version": "3.12.2"
  }
 },
 "nbformat": 4,
 "nbformat_minor": 5
}
